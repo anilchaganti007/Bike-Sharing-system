{
 "cells": [
  {
   "cell_type": "code",
   "execution_count": 1,
   "id": "bd48301a",
   "metadata": {},
   "outputs": [],
   "source": [
    "# Import necessary libraries\n",
    "import pandas as pd\n",
    "import numpy as np\n",
    "from sklearn.model_selection import train_test_split\n",
    "from sklearn.preprocessing import MinMaxScaler\n",
    "from sklearn.linear_model import LinearRegression\n",
    "from sklearn.metrics import r2_score, mean_squared_error\n",
    "import statsmodels.api as sm\n",
    "import matplotlib.pyplot as plt\n",
    "import seaborn as sns\n",
    "from statsmodels.stats.outliers_influence import variance_inflation_factor\n",
    "\n",
    "import warnings\n",
    "warnings.filterwarnings('ignore')"
   ]
  },
  {
   "cell_type": "code",
   "execution_count": 2,
   "id": "89a2746d",
   "metadata": {},
   "outputs": [
    {
     "name": "stdout",
     "output_type": "stream",
     "text": [
      "Missing Values:\n",
      " instant       0\n",
      "dteday        0\n",
      "season        0\n",
      "yr            0\n",
      "mnth          0\n",
      "holiday       0\n",
      "weekday       0\n",
      "workingday    0\n",
      "weathersit    0\n",
      "temp          0\n",
      "atemp         0\n",
      "hum           0\n",
      "windspeed     0\n",
      "casual        0\n",
      "registered    0\n",
      "cnt           0\n",
      "dtype: int64\n",
      "Duplicate Rows: 0\n",
      "Data Types:\n",
      " instant         int64\n",
      "dteday         object\n",
      "season          int64\n",
      "yr              int64\n",
      "mnth            int64\n",
      "holiday         int64\n",
      "weekday         int64\n",
      "workingday      int64\n",
      "weathersit      int64\n",
      "temp          float64\n",
      "atemp         float64\n",
      "hum           float64\n",
      "windspeed     float64\n",
      "casual          int64\n",
      "registered      int64\n",
      "cnt             int64\n",
      "dtype: object\n",
      "Columns after get_dummies:\n",
      " Index(['instant', 'dteday', 'mnth', 'temp', 'atemp', 'hum', 'windspeed',\n",
      "       'casual', 'registered', 'cnt', 'season_spring', 'season_summer',\n",
      "       'season_winter', 'weathersit_light_snow/rain', 'weathersit_mist',\n",
      "       'yr_2019', 'holiday_1', 'weekday_1', 'weekday_2', 'weekday_3',\n",
      "       'weekday_4', 'weekday_5', 'weekday_6', 'workingday_1', 'year', 'month',\n",
      "       'day'],\n",
      "      dtype='object')\n",
      "Selected Features:\n",
      " ['temp', 'atemp', 'hum', 'windspeed', 'month', 'day', 'season_spring', 'season_summer', 'weathersit_mist', 'yr_2019', 'holiday_1', 'weekday_1', 'weekday_2', 'weekday_3', 'weekday_4', 'weekday_5', 'weekday_6', 'workingday_1']\n"
     ]
    }
   ],
   "source": [
    "# Load the dataset\n",
    "data = pd.read_csv('day.csv')\n",
    "\n",
    "# Data Quality Checks\n",
    "# Check for missing values\n",
    "missing_values = data.isnull().sum()\n",
    "print(\"Missing Values:\\n\", missing_values)\n",
    "\n",
    "# Check for duplicate rows\n",
    "duplicate_rows = data.duplicated().sum()\n",
    "print(\"Duplicate Rows:\", duplicate_rows)\n",
    "\n",
    "# Check data types\n",
    "data_types = data.dtypes\n",
    "print(\"Data Types:\\n\", data_types)\n",
    "\n",
    "# Convert 'dteday' to datetime format\n",
    "data['dteday'] = pd.to_datetime(data['dteday'], format='%d-%m-%Y', dayfirst=True)\n",
    "\n",
    "# Convert numerical categorical features to strings\n",
    "data['season'] = data['season'].map({1: 'spring', 2: 'summer', 3: 'fall', 4: 'winter'})\n",
    "data['weathersit'] = data['weathersit'].map({1: 'clear', 2: 'mist', 3: 'light_snow/rain', 4: 'heavy_rain/snow'})\n",
    "data['yr'] = data['yr'].map({0: '2018', 1: '2019'})\n",
    "\n",
    "# Create dummy variables for categorical features\n",
    "data = pd.get_dummies(data, columns=['season', 'weathersit', 'yr', 'holiday', 'weekday', 'workingday'], drop_first=True)\n",
    "\n",
    "# Extract year, month, and day from 'dteday'\n",
    "data['year'] = data['dteday'].dt.year\n",
    "data['month'] = data['dteday'].dt.month\n",
    "data['day'] = data['dteday'].dt.day\n",
    "\n",
    "# Verify the dummy variables created\n",
    "print(\"Columns after get_dummies:\\n\", data.columns)\n",
    "\n",
    "# Define the features list based on the actual dummy variables created\n",
    "features = [\n",
    "    'temp', 'atemp', 'hum', 'windspeed', 'month', 'day'\n",
    "]\n",
    "# Append only existing dummy variables to the feature list\n",
    "dummy_vars = [\n",
    "    'season_spring', 'season_summer', 'season_fall', \n",
    "    'weathersit_clear', 'weathersit_mist', \n",
    "    'yr_2019', \n",
    "    'holiday_1', \n",
    "    'weekday_1', 'weekday_2', 'weekday_3', 'weekday_4', 'weekday_5', 'weekday_6', \n",
    "    'workingday_1'\n",
    "]\n",
    "\n",
    "for var in dummy_vars:\n",
    "    if var in data.columns:\n",
    "        features.append(var)\n",
    "\n",
    "print(\"Selected Features:\\n\", features)\n",
    "\n",
    "# Target Variable\n",
    "target = 'cnt'\n",
    "\n",
    "# Extract features and target variable\n",
    "X = data[features]\n",
    "y = data[target]\n",
    "\n",
    "# Min-Max Scaling\n",
    "scaler = MinMaxScaler()\n",
    "X_scaled = pd.DataFrame(scaler.fit_transform(X), columns=X.columns)\n",
    "\n",
    "# Split the data into training and test sets\n",
    "X_train, X_test, y_train, y_test = train_test_split(X_scaled, y, test_size=0.2, random_state=42)"
   ]
  },
  {
   "cell_type": "code",
   "execution_count": 3,
   "id": "bddbdb02",
   "metadata": {},
   "outputs": [
    {
     "data": {
      "text/plain": [
       "<Axes: >"
      ]
     },
     "execution_count": 3,
     "metadata": {},
     "output_type": "execute_result"
    },
    {
     "data": {
      "image/png": "[encoded data removed]",
      "text/plain": [
       "<Figure size 640x480 with 2 Axes>"
      ]
     },
     "metadata": {},
     "output_type": "display_data"
    }
   ],
   "source": [
    "plt.figure(figure=(16,10))\n",
    "sns.heatmap(X_scaled.corr(), annot = True, cmap='YlGnBu')"
   ]
  },
  {
   "cell_type": "code",
   "execution_count": 4,
   "id": "253c21e0",
   "metadata": {},
   "outputs": [
    {
     "name": "stdout",
     "output_type": "stream",
     "text": [
      "                            OLS Regression Results                            \n",
      "==============================================================================\n",
      "Dep. Variable:                    cnt   R-squared:                       0.396\n",
      "Model:                            OLS   Adj. R-squared:                  0.395\n",
      "Method:                 Least Squares   F-statistic:                     381.5\n",
      "Date:                Tue, 30 Jul 2024   Prob (F-statistic):           1.04e-65\n",
      "Time:                        22:00:47   Log-Likelihood:                -5106.6\n",
      "No. Observations:                 584   AIC:                         1.022e+04\n",
      "Df Residuals:                     582   BIC:                         1.023e+04\n",
      "Df Model:                           1                                         \n",
      "Covariance Type:            nonrobust                                         \n",
      "==============================================================================\n",
      "                 coef    std err          t      P>|t|      [0.025      0.975]\n",
      "------------------------------------------------------------------------------\n",
      "const       1561.0095    165.301      9.443      0.000    1236.351    1885.668\n",
      "temp        5413.3104    277.166     19.531      0.000    4868.943    5957.678\n",
      "==============================================================================\n",
      "Omnibus:                       12.969   Durbin-Watson:                   2.072\n",
      "Prob(Omnibus):                  0.002   Jarque-Bera (JB):                8.274\n",
      "Skew:                           0.138   Prob(JB):                       0.0160\n",
      "Kurtosis:                       2.487   Cond. No.                         5.80\n",
      "==============================================================================\n",
      "\n",
      "Notes:\n",
      "[1] Standard Errors assume that the covariance matrix of the errors is correctly specified.\n"
     ]
    }
   ],
   "source": [
    "# Statsmodels Linear Regression\n",
    "X_train_sm = sm.add_constant(X_train['temp'])  # adding a constant\n",
    "model = sm.OLS(y_train, X_train_sm).fit()\n",
    "print(model.summary())"
   ]
  },
  {
   "cell_type": "code",
   "execution_count": 5,
   "id": "277e4a4c",
   "metadata": {},
   "outputs": [
    {
     "name": "stdout",
     "output_type": "stream",
     "text": [
      "                            OLS Regression Results                            \n",
      "==============================================================================\n",
      "Dep. Variable:                    cnt   R-squared:                       0.670\n",
      "Model:                            OLS   Adj. R-squared:                  0.669\n",
      "Method:                 Least Squares   F-statistic:                     590.2\n",
      "Date:                Tue, 30 Jul 2024   Prob (F-statistic):          1.17e-140\n",
      "Time:                        22:00:47   Log-Likelihood:                -4929.9\n",
      "No. Observations:                 584   AIC:                             9866.\n",
      "Df Residuals:                     581   BIC:                             9879.\n",
      "Df Model:                           2                                         \n",
      "Covariance Type:            nonrobust                                         \n",
      "==============================================================================\n",
      "                 coef    std err          t      P>|t|      [0.025      0.975]\n",
      "------------------------------------------------------------------------------\n",
      "const        640.0642    129.234      4.953      0.000     386.241     893.887\n",
      "temp        5180.8489    205.258     25.241      0.000    4777.711    5583.987\n",
      "yr_2019     2049.1642     93.236     21.978      0.000    1866.043    2232.286\n",
      "==============================================================================\n",
      "Omnibus:                       30.261   Durbin-Watson:                   2.003\n",
      "Prob(Omnibus):                  0.000   Jarque-Bera (JB):               36.060\n",
      "Skew:                          -0.502   Prob(JB):                     1.48e-08\n",
      "Kurtosis:                       3.688   Cond. No.                         6.45\n",
      "==============================================================================\n",
      "\n",
      "Notes:\n",
      "[1] Standard Errors assume that the covariance matrix of the errors is correctly specified.\n"
     ]
    }
   ],
   "source": [
    "# Statsmodels Linear Regression\n",
    "X_train_sm = sm.add_constant(X_train[['temp', 'yr_2019']])  # adding a constant\n",
    "model = sm.OLS(y_train, X_train_sm).fit()\n",
    "print(model.summary())"
   ]
  },
  {
   "cell_type": "code",
   "execution_count": 6,
   "id": "749b2224",
   "metadata": {},
   "outputs": [
    {
     "name": "stdout",
     "output_type": "stream",
     "text": [
      "                            OLS Regression Results                            \n",
      "==============================================================================\n",
      "Dep. Variable:                    cnt   R-squared:                       0.684\n",
      "Model:                            OLS   Adj. R-squared:                  0.682\n",
      "Method:                 Least Squares   F-statistic:                     418.3\n",
      "Date:                Tue, 30 Jul 2024   Prob (F-statistic):          1.44e-144\n",
      "Time:                        22:00:47   Log-Likelihood:                -4917.5\n",
      "No. Observations:                 584   AIC:                             9843.\n",
      "Df Residuals:                     580   BIC:                             9861.\n",
      "Df Model:                           3                                         \n",
      "Covariance Type:            nonrobust                                         \n",
      "==============================================================================\n",
      "                 coef    std err          t      P>|t|      [0.025      0.975]\n",
      "------------------------------------------------------------------------------\n",
      "const        472.7631    130.940      3.611      0.000     215.589     729.937\n",
      "temp       -6959.6403   2427.423     -2.867      0.004   -1.17e+04   -2192.030\n",
      "yr_2019     2035.4343     91.395     22.271      0.000    1855.928    2214.940\n",
      "atemp       1.303e+04   2596.426      5.019      0.000    7930.996    1.81e+04\n",
      "==============================================================================\n",
      "Omnibus:                       53.729   Durbin-Watson:                   1.976\n",
      "Prob(Omnibus):                  0.000   Jarque-Bera (JB):               75.082\n",
      "Skew:                          -0.686   Prob(JB):                     4.97e-17\n",
      "Kurtosis:                       4.097   Cond. No.                         108.\n",
      "==============================================================================\n",
      "\n",
      "Notes:\n",
      "[1] Standard Errors assume that the covariance matrix of the errors is correctly specified.\n"
     ]
    }
   ],
   "source": [
    "# Statsmodels Linear Regression\n",
    "X_train_sm = sm.add_constant(X_train[['temp', 'yr_2019', 'atemp']])  # adding a constant\n",
    "model = sm.OLS(y_train, X_train_sm).fit()\n",
    "print(model.summary())"
   ]
  },
  {
   "cell_type": "code",
   "execution_count": 7,
   "id": "2f582154",
   "metadata": {},
   "outputs": [
    {
     "name": "stdout",
     "output_type": "stream",
     "text": [
      "                            OLS Regression Results                            \n",
      "==============================================================================\n",
      "Dep. Variable:                    cnt   R-squared:                       0.703\n",
      "Model:                            OLS   Adj. R-squared:                  0.701\n",
      "Method:                 Least Squares   F-statistic:                     342.8\n",
      "Date:                Tue, 30 Jul 2024   Prob (F-statistic):          4.20e-151\n",
      "Time:                        22:00:47   Log-Likelihood:                -4899.2\n",
      "No. Observations:                 584   AIC:                             9808.\n",
      "Df Residuals:                     579   BIC:                             9830.\n",
      "Df Model:                           4                                         \n",
      "Covariance Type:            nonrobust                                         \n",
      "==============================================================================\n",
      "                 coef    std err          t      P>|t|      [0.025      0.975]\n",
      "------------------------------------------------------------------------------\n",
      "const       1631.6911    227.889      7.160      0.000    1184.102    2079.281\n",
      "temp       -8946.6760   2376.689     -3.764      0.000   -1.36e+04   -4278.693\n",
      "yr_2019     1974.5921     89.202     22.136      0.000    1799.393    2149.792\n",
      "atemp       1.532e+04   2545.888      6.016      0.000    1.03e+04    2.03e+04\n",
      "hum        -1895.7774    309.523     -6.125      0.000   -2503.703   -1287.852\n",
      "==============================================================================\n",
      "Omnibus:                       53.579   Durbin-Watson:                   1.966\n",
      "Prob(Omnibus):                  0.000   Jarque-Bera (JB):               75.196\n",
      "Skew:                          -0.683   Prob(JB):                     4.69e-17\n",
      "Kurtosis:                       4.108   Cond. No.                         120.\n",
      "==============================================================================\n",
      "\n",
      "Notes:\n",
      "[1] Standard Errors assume that the covariance matrix of the errors is correctly specified.\n"
     ]
    }
   ],
   "source": [
    "# Statsmodels Linear Regression\n",
    "X_train_sm = sm.add_constant(X_train[['temp', 'yr_2019', 'atemp', 'hum']])  # adding a constant\n",
    "model = sm.OLS(y_train, X_train_sm).fit()\n",
    "print(model.summary())"
   ]
  },
  {
   "cell_type": "code",
   "execution_count": 8,
   "id": "4e810080",
   "metadata": {},
   "outputs": [
    {
     "name": "stdout",
     "output_type": "stream",
     "text": [
      "                            OLS Regression Results                            \n",
      "==============================================================================\n",
      "Dep. Variable:                    cnt   R-squared:                       0.760\n",
      "Model:                            OLS   Adj. R-squared:                  0.758\n",
      "Method:                 Least Squares   F-statistic:                     366.2\n",
      "Date:                Tue, 30 Jul 2024   Prob (F-statistic):          1.71e-176\n",
      "Time:                        22:00:48   Log-Likelihood:                -4837.0\n",
      "No. Observations:                 584   AIC:                             9686.\n",
      "Df Residuals:                     578   BIC:                             9712.\n",
      "Df Model:                           5                                         \n",
      "Covariance Type:            nonrobust                                         \n",
      "=================================================================================\n",
      "                    coef    std err          t      P>|t|      [0.025      0.975]\n",
      "---------------------------------------------------------------------------------\n",
      "const          3127.0970    241.534     12.947      0.000    2652.706    3601.488\n",
      "temp          -6937.5202   2145.280     -3.234      0.001   -1.12e+04   -2724.026\n",
      "yr_2019        2003.2146     80.296     24.948      0.000    1845.506    2160.923\n",
      "atemp          1.136e+04   2315.436      4.906      0.000    6811.339    1.59e+04\n",
      "hum           -2198.6600    279.690     -7.861      0.000   -2747.992   -1649.328\n",
      "season_spring -1454.1389    124.135    -11.714      0.000   -1697.950   -1210.328\n",
      "==============================================================================\n",
      "Omnibus:                      105.428   Durbin-Watson:                   1.964\n",
      "Prob(Omnibus):                  0.000   Jarque-Bera (JB):              257.128\n",
      "Skew:                          -0.932   Prob(JB):                     1.46e-56\n",
      "Kurtosis:                       5.663   Cond. No.                         122.\n",
      "==============================================================================\n",
      "\n",
      "Notes:\n",
      "[1] Standard Errors assume that the covariance matrix of the errors is correctly specified.\n"
     ]
    }
   ],
   "source": [
    "# Statsmodels Linear Regression\n",
    "X_train_sm = sm.add_constant(X_train[['temp', 'yr_2019', 'atemp', 'hum', 'season_spring']])  # adding a constant\n",
    "model = sm.OLS(y_train, X_train_sm).fit()\n",
    "print(model.summary())"
   ]
  },
  {
   "cell_type": "code",
   "execution_count": 9,
   "id": "61a65ecb",
   "metadata": {},
   "outputs": [
    {
     "name": "stdout",
     "output_type": "stream",
     "text": [
      "                            OLS Regression Results                            \n",
      "==============================================================================\n",
      "Dep. Variable:                    cnt   R-squared:                       0.779\n",
      "Model:                            OLS   Adj. R-squared:                  0.777\n",
      "Method:                 Least Squares   F-statistic:                     338.6\n",
      "Date:                Tue, 30 Jul 2024   Prob (F-statistic):          2.30e-185\n",
      "Time:                        22:00:48   Log-Likelihood:                -4813.2\n",
      "No. Observations:                 584   AIC:                             9640.\n",
      "Df Residuals:                     577   BIC:                             9671.\n",
      "Df Model:                           6                                         \n",
      "Covariance Type:            nonrobust                                         \n",
      "=================================================================================\n",
      "                    coef    std err          t      P>|t|      [0.025      0.975]\n",
      "---------------------------------------------------------------------------------\n",
      "const          4153.6172    274.611     15.125      0.000    3614.257    4692.977\n",
      "temp          -2802.3300   2144.622     -1.307      0.192   -7014.547    1409.887\n",
      "yr_2019        1987.7411     77.193     25.750      0.000    1836.127    2139.355\n",
      "atemp          6695.6367   2322.779      2.883      0.004    2133.503    1.13e+04\n",
      "hum           -2508.4551    272.395     -9.209      0.000   -3043.461   -1973.449\n",
      "season_spring -1479.6174    119.344    -12.398      0.000   -1714.020   -1245.215\n",
      "windspeed     -1871.2844    267.540     -6.994      0.000   -2396.755   -1345.814\n",
      "==============================================================================\n",
      "Omnibus:                       91.121   Durbin-Watson:                   1.925\n",
      "Prob(Omnibus):                  0.000   Jarque-Bera (JB):              194.223\n",
      "Skew:                          -0.861   Prob(JB):                     6.69e-43\n",
      "Kurtosis:                       5.240   Cond. No.                         130.\n",
      "==============================================================================\n",
      "\n",
      "Notes:\n",
      "[1] Standard Errors assume that the covariance matrix of the errors is correctly specified.\n"
     ]
    }
   ],
   "source": [
    "# Statsmodels Linear Regression\n",
    "X_train_sm = sm.add_constant(X_train[['temp', 'yr_2019', 'atemp', 'hum', 'season_spring', 'windspeed']])  # adding a constant\n",
    "model = sm.OLS(y_train, X_train_sm).fit()\n",
    "print(model.summary())"
   ]
  },
  {
   "cell_type": "code",
   "execution_count": 10,
   "id": "ae8aad6e",
   "metadata": {},
   "outputs": [
    {
     "name": "stdout",
     "output_type": "stream",
     "text": [
      "                            OLS Regression Results                            \n",
      "==============================================================================\n",
      "Dep. Variable:                    cnt   R-squared:                       0.779\n",
      "Model:                            OLS   Adj. R-squared:                  0.777\n",
      "Method:                 Least Squares   F-statistic:                     338.6\n",
      "Date:                Tue, 30 Jul 2024   Prob (F-statistic):          2.30e-185\n",
      "Time:                        22:00:48   Log-Likelihood:                -4813.2\n",
      "No. Observations:                 584   AIC:                             9640.\n",
      "Df Residuals:                     577   BIC:                             9671.\n",
      "Df Model:                           6                                         \n",
      "Covariance Type:            nonrobust                                         \n",
      "=================================================================================\n",
      "                    coef    std err          t      P>|t|      [0.025      0.975]\n",
      "---------------------------------------------------------------------------------\n",
      "const          4153.6172    274.611     15.125      0.000    3614.257    4692.977\n",
      "temp          -2802.3300   2144.622     -1.307      0.192   -7014.547    1409.887\n",
      "yr_2019        1987.7411     77.193     25.750      0.000    1836.127    2139.355\n",
      "atemp          6695.6367   2322.779      2.883      0.004    2133.503    1.13e+04\n",
      "hum           -2508.4551    272.395     -9.209      0.000   -3043.461   -1973.449\n",
      "season_spring -1479.6174    119.344    -12.398      0.000   -1714.020   -1245.215\n",
      "windspeed     -1871.2844    267.540     -6.994      0.000   -2396.755   -1345.814\n",
      "==============================================================================\n",
      "Omnibus:                       91.121   Durbin-Watson:                   1.925\n",
      "Prob(Omnibus):                  0.000   Jarque-Bera (JB):              194.223\n",
      "Skew:                          -0.861   Prob(JB):                     6.69e-43\n",
      "Kurtosis:                       5.240   Cond. No.                         130.\n",
      "==============================================================================\n",
      "\n",
      "Notes:\n",
      "[1] Standard Errors assume that the covariance matrix of the errors is correctly specified.\n"
     ]
    }
   ],
   "source": [
    "# Statsmodels Linear Regression\n",
    "X_train_sm = sm.add_constant(X_train[['temp', 'yr_2019', 'atemp', 'hum', 'season_spring', 'windspeed']])  # adding a constant\n",
    "model = sm.OLS(y_train, X_train_sm).fit()\n",
    "print(model.summary())"
   ]
  },
  {
   "cell_type": "code",
   "execution_count": 11,
   "id": "ae5315b2",
   "metadata": {},
   "outputs": [
    {
     "name": "stdout",
     "output_type": "stream",
     "text": [
      "VIF Data:\n",
      "             feature         VIF\n",
      "0             const   87.263595\n",
      "1              temp  170.320263\n",
      "2             atemp  173.382079\n",
      "3               hum    1.566842\n",
      "4         windspeed    1.217279\n",
      "5             month    3.255544\n",
      "6               day    1.018498\n",
      "7     season_spring    4.651012\n",
      "8     season_summer    2.220418\n",
      "9   weathersit_mist    1.399892\n",
      "10          yr_2019    1.033809\n",
      "11        holiday_1         inf\n",
      "12        weekday_1         inf\n",
      "13        weekday_2         inf\n",
      "14        weekday_3         inf\n",
      "15        weekday_4         inf\n",
      "16        weekday_5         inf\n",
      "17        weekday_6    1.675617\n",
      "18     workingday_1         inf\n"
     ]
    }
   ],
   "source": [
    "# Calculate VIF for each feature\n",
    "X_train_vif = X_train.copy()\n",
    "X_train_vif = sm.add_constant(X_train_vif)  # adding a constant\n",
    "vif_data = pd.DataFrame()\n",
    "vif_data[\"feature\"] = X_train_vif.columns\n",
    "vif_data[\"VIF\"] = [variance_inflation_factor(X_train_vif.values, i) for i in range(X_train_vif.shape[1])]\n",
    "print(\"VIF Data:\\n\", vif_data)"
   ]
  },
  {
   "cell_type": "code",
   "execution_count": 12,
   "id": "b12f77a7",
   "metadata": {},
   "outputs": [
    {
     "name": "stdout",
     "output_type": "stream",
     "text": [
      "VIF Data:\n",
      "             feature         VIF\n",
      "0             const   80.917030\n",
      "1              temp  167.513583\n",
      "2             atemp  170.468028\n",
      "3               hum    1.529664\n",
      "4         windspeed    1.208732\n",
      "5             month    3.234589\n",
      "6               day    1.014688\n",
      "7     season_spring    4.624167\n",
      "8     season_summer    2.217199\n",
      "9   weathersit_mist    1.387856\n",
      "10          yr_2019    1.031707\n",
      "11        weekday_6    1.004104\n"
     ]
    }
   ],
   "source": [
    "# Calculate VIF for each feature\n",
    "X_train_vif = X_train[['temp', 'atemp', 'hum', 'windspeed', 'month', 'day', 'season_spring', 'season_summer', 'weathersit_mist', 'yr_2019', 'weekday_6']]\n",
    "X_train_vif = sm.add_constant(X_train_vif)  # adding a constant\n",
    "vif_data = pd.DataFrame()\n",
    "vif_data[\"feature\"] = X_train_vif.columns\n",
    "vif_data[\"VIF\"] = [variance_inflation_factor(X_train_vif.values, i) for i in range(X_train_vif.shape[1])]\n",
    "print(\"VIF Data:\\n\", vif_data)"
   ]
  },
  {
   "cell_type": "code",
   "execution_count": 13,
   "id": "cb3c16c7",
   "metadata": {},
   "outputs": [
    {
     "name": "stdout",
     "output_type": "stream",
     "text": [
      "VIF Data:\n",
      "             feature        VIF\n",
      "0             const  79.548990\n",
      "1              temp   1.974376\n",
      "2               hum   1.516428\n",
      "3         windspeed   1.107209\n",
      "4             month   3.214367\n",
      "5               day   1.008719\n",
      "6     season_spring   4.623786\n",
      "7     season_summer   2.181522\n",
      "8   weathersit_mist   1.382513\n",
      "9           yr_2019   1.029713\n",
      "10        weekday_6   1.003701\n"
     ]
    }
   ],
   "source": [
    "# Calculate VIF for each feature\n",
    "X_train_vif = X_train[[ 'temp', 'hum', 'windspeed', 'month', 'day', 'season_spring', 'season_summer', 'weathersit_mist', 'yr_2019', 'weekday_6']]\n",
    "X_train_vif = sm.add_constant(X_train_vif)  # adding a constant\n",
    "vif_data = pd.DataFrame()\n",
    "vif_data[\"feature\"] = X_train_vif.columns\n",
    "vif_data[\"VIF\"] = [variance_inflation_factor(X_train_vif.values, i) for i in range(X_train_vif.shape[1])]\n",
    "print(\"VIF Data:\\n\", vif_data)"
   ]
  },
  {
   "cell_type": "code",
   "execution_count": 14,
   "id": "b0719526",
   "metadata": {},
   "outputs": [
    {
     "name": "stdout",
     "output_type": "stream",
     "text": [
      "                            OLS Regression Results                            \n",
      "==============================================================================\n",
      "Dep. Variable:                    cnt   R-squared:                       0.776\n",
      "Model:                            OLS   Adj. R-squared:                  0.774\n",
      "Method:                 Least Squares   F-statistic:                     399.7\n",
      "Date:                Tue, 30 Jul 2024   Prob (F-statistic):          6.70e-185\n",
      "Time:                        22:00:48   Log-Likelihood:                -4817.4\n",
      "No. Observations:                 584   AIC:                             9647.\n",
      "Df Residuals:                     578   BIC:                             9673.\n",
      "Df Model:                           5                                         \n",
      "Covariance Type:            nonrobust                                         \n",
      "=================================================================================\n",
      "                    coef    std err          t      P>|t|      [0.025      0.975]\n",
      "---------------------------------------------------------------------------------\n",
      "const          4334.4901    269.032     16.111      0.000    3806.091    4862.889\n",
      "temp           3347.5575    219.956     15.219      0.000    2915.546    3779.569\n",
      "hum           -2447.9086    273.295     -8.957      0.000   -2984.682   -1911.135\n",
      "windspeed     -2092.6524    257.897     -8.114      0.000   -2599.181   -1586.124\n",
      "season_spring -1530.7000    118.765    -12.888      0.000   -1763.964   -1297.436\n",
      "yr_2019        1996.4971     77.619     25.722      0.000    1844.046    2148.948\n",
      "==============================================================================\n",
      "Omnibus:                       74.176   Durbin-Watson:                   1.926\n",
      "Prob(Omnibus):                  0.000   Jarque-Bera (JB):              145.902\n",
      "Skew:                          -0.743   Prob(JB):                     2.08e-32\n",
      "Kurtosis:                       4.947   Cond. No.                         15.0\n",
      "==============================================================================\n",
      "\n",
      "Notes:\n",
      "[1] Standard Errors assume that the covariance matrix of the errors is correctly specified.\n"
     ]
    }
   ],
   "source": [
    "# Statsmodels Linear Regression\n",
    "X_train_sm = sm.add_constant(X_train[[ 'temp', 'hum', 'windspeed', 'season_spring', 'yr_2019']])  # adding a constant\n",
    "model = sm.OLS(y_train, X_train_sm).fit()\n",
    "print(model.summary())"
   ]
  },
  {
   "cell_type": "code",
   "execution_count": 15,
   "id": "9aa75835",
   "metadata": {},
   "outputs": [
    {
     "name": "stdout",
     "output_type": "stream",
     "text": [
      "VIF Data:\n",
      "          feature        VIF\n",
      "0          const  48.868143\n",
      "1           temp   1.684040\n",
      "2            hum   1.077961\n",
      "3      windspeed   1.068215\n",
      "4  season_spring   1.683791\n",
      "5        yr_2019   1.016365\n"
     ]
    }
   ],
   "source": [
    "# Calculate VIF for each feature\n",
    "X_train_vif = X_train[[ 'temp', 'hum', 'windspeed', 'season_spring', 'yr_2019']]\n",
    "X_train_vif = sm.add_constant(X_train_vif)  # adding a constant\n",
    "vif_data = pd.DataFrame()\n",
    "vif_data[\"feature\"] = X_train_vif.columns\n",
    "vif_data[\"VIF\"] = [variance_inflation_factor(X_train_vif.values, i) for i in range(X_train_vif.shape[1])]\n",
    "print(\"VIF Data:\\n\", vif_data)"
   ]
  },
  {
   "cell_type": "code",
   "execution_count": 16,
   "id": "ecfaf9ba",
   "metadata": {},
   "outputs": [
    {
     "data": {
      "text/plain": [
       "247    4085.888589\n",
       "335    3484.937538\n",
       "702    5567.590105\n",
       "440    4414.826483\n",
       "136    3221.599463\n",
       "          ...     \n",
       "71     1762.017151\n",
       "106    3572.814852\n",
       "270    4055.553725\n",
       "435    4469.418599\n",
       "102    2761.933567\n",
       "Length: 584, dtype: float64"
      ]
     },
     "execution_count": 16,
     "metadata": {},
     "output_type": "execute_result"
    }
   ],
   "source": [
    "y_train_predict = model.predict(X_train_sm)\n",
    "y_train_predict"
   ]
  },
  {
   "cell_type": "code",
   "execution_count": 17,
   "id": "496eef66",
   "metadata": {},
   "outputs": [
    {
     "data": {
      "text/plain": [
       "<Axes: ylabel='Density'>"
      ]
     },
     "execution_count": 17,
     "metadata": {},
     "output_type": "execute_result"
    },
    {
     "data": {
      "image/png": "[encoded data removed]",
      "text/plain": [
       "<Figure size 640x480 with 1 Axes>"
      ]
     },
     "metadata": {},
     "output_type": "display_data"
    }
   ],
   "source": [
    "res = y_train - y_train_predict\n",
    "sns.distplot(res)"
   ]
  },
  {
   "cell_type": "code",
   "execution_count": 18,
   "id": "aeee328f",
   "metadata": {},
   "outputs": [
    {
     "data": {
      "text/html": [
       "<div>\n",
       "<style scoped>\n",
       "    .dataframe tbody tr th:only-of-type {\n",
       "        vertical-align: middle;\n",
       "    }\n",
       "\n",
       "    .dataframe tbody tr th {\n",
       "        vertical-align: top;\n",
       "    }\n",
       "\n",
       "    .dataframe thead th {\n",
       "        text-align: right;\n",
       "    }\n",
       "</style>\n",
       "<table border=\"1\" class=\"dataframe\">\n",
       "  <thead>\n",
       "    <tr style=\"text-align: right;\">\n",
       "      <th></th>\n",
       "      <th>const</th>\n",
       "      <th>temp</th>\n",
       "      <th>hum</th>\n",
       "      <th>windspeed</th>\n",
       "      <th>season_spring</th>\n",
       "      <th>yr_2019</th>\n",
       "    </tr>\n",
       "  </thead>\n",
       "  <tbody>\n",
       "    <tr>\n",
       "      <th>count</th>\n",
       "      <td>584.0</td>\n",
       "      <td>584.000000</td>\n",
       "      <td>584.000000</td>\n",
       "      <td>584.000000</td>\n",
       "      <td>584.000000</td>\n",
       "      <td>584.000000</td>\n",
       "    </tr>\n",
       "    <tr>\n",
       "      <th>mean</th>\n",
       "      <td>1.0</td>\n",
       "      <td>0.551484</td>\n",
       "      <td>0.652750</td>\n",
       "      <td>0.338010</td>\n",
       "      <td>0.229452</td>\n",
       "      <td>0.511986</td>\n",
       "    </tr>\n",
       "    <tr>\n",
       "      <th>std</th>\n",
       "      <td>0.0</td>\n",
       "      <td>0.227249</td>\n",
       "      <td>0.146330</td>\n",
       "      <td>0.154364</td>\n",
       "      <td>0.420841</td>\n",
       "      <td>0.500285</td>\n",
       "    </tr>\n",
       "    <tr>\n",
       "      <th>min</th>\n",
       "      <td>1.0</td>\n",
       "      <td>0.000000</td>\n",
       "      <td>0.000000</td>\n",
       "      <td>0.000000</td>\n",
       "      <td>0.000000</td>\n",
       "      <td>0.000000</td>\n",
       "    </tr>\n",
       "    <tr>\n",
       "      <th>25%</th>\n",
       "      <td>1.0</td>\n",
       "      <td>0.354266</td>\n",
       "      <td>0.541583</td>\n",
       "      <td>0.227878</td>\n",
       "      <td>0.000000</td>\n",
       "      <td>0.000000</td>\n",
       "    </tr>\n",
       "    <tr>\n",
       "      <th>50%</th>\n",
       "      <td>1.0</td>\n",
       "      <td>0.566998</td>\n",
       "      <td>0.656170</td>\n",
       "      <td>0.312824</td>\n",
       "      <td>0.000000</td>\n",
       "      <td>1.000000</td>\n",
       "    </tr>\n",
       "    <tr>\n",
       "      <th>75%</th>\n",
       "      <td>1.0</td>\n",
       "      <td>0.745598</td>\n",
       "      <td>0.755724</td>\n",
       "      <td>0.429484</td>\n",
       "      <td>0.000000</td>\n",
       "      <td>1.000000</td>\n",
       "    </tr>\n",
       "    <tr>\n",
       "      <th>max</th>\n",
       "      <td>1.0</td>\n",
       "      <td>1.000000</td>\n",
       "      <td>0.997858</td>\n",
       "      <td>0.824380</td>\n",
       "      <td>1.000000</td>\n",
       "      <td>1.000000</td>\n",
       "    </tr>\n",
       "  </tbody>\n",
       "</table>\n",
       "</div>"
      ],
      "text/plain": [
       "       const        temp         hum   windspeed  season_spring     yr_2019\n",
       "count  584.0  584.000000  584.000000  584.000000     584.000000  584.000000\n",
       "mean     1.0    0.551484    0.652750    0.338010       0.229452    0.511986\n",
       "std      0.0    0.227249    0.146330    0.154364       0.420841    0.500285\n",
       "min      1.0    0.000000    0.000000    0.000000       0.000000    0.000000\n",
       "25%      1.0    0.354266    0.541583    0.227878       0.000000    0.000000\n",
       "50%      1.0    0.566998    0.656170    0.312824       0.000000    1.000000\n",
       "75%      1.0    0.745598    0.755724    0.429484       0.000000    1.000000\n",
       "max      1.0    1.000000    0.997858    0.824380       1.000000    1.000000"
      ]
     },
     "execution_count": 18,
     "metadata": {},
     "output_type": "execute_result"
    }
   ],
   "source": [
    "X_train_sm.describe()"
   ]
  },
  {
   "cell_type": "code",
   "execution_count": 19,
   "id": "d671714c",
   "metadata": {},
   "outputs": [],
   "source": [
    "X_test_sm = sm.add_constant(X_test)\n",
    "X_test_sm = X_test_sm[[ 'const', 'temp', 'hum', 'windspeed', 'season_spring', 'yr_2019']]"
   ]
  },
  {
   "cell_type": "code",
   "execution_count": 20,
   "id": "18fb62da",
   "metadata": {},
   "outputs": [
    {
     "data": {
      "text/plain": [
       "468    6156.151152\n",
       "148    3984.881895\n",
       "302    3183.755277\n",
       "355    2308.884537\n",
       "515    6934.180161\n",
       "          ...     \n",
       "404    3503.681771\n",
       "390    3821.632126\n",
       "218    4517.148679\n",
       "135    4062.699536\n",
       "260    3781.938209\n",
       "Length: 146, dtype: float64"
      ]
     },
     "execution_count": 20,
     "metadata": {},
     "output_type": "execute_result"
    }
   ],
   "source": [
    "y_test_predict = model.predict(X_test_sm)\n",
    "y_test_predict"
   ]
  },
  {
   "cell_type": "code",
   "execution_count": 21,
   "id": "d604830a",
   "metadata": {},
   "outputs": [
    {
     "data": {
      "text/plain": [
       "<Axes: ylabel='Density'>"
      ]
     },
     "execution_count": 21,
     "metadata": {},
     "output_type": "execute_result"
    },
    {
     "data": {
      "image/png": "[encoded data removed]",
      "text/plain": [
       "<Figure size 640x480 with 1 Axes>"
      ]
     },
     "metadata": {},
     "output_type": "display_data"
    }
   ],
   "source": [
    "res = y_test - y_test_predict\n",
    "sns.distplot(res)"
   ]
  },
  {
   "cell_type": "code",
   "execution_count": 22,
   "id": "1e2d6532",
   "metadata": {},
   "outputs": [
    {
     "data": {
      "text/plain": [
       "0.8310896365937871"
      ]
     },
     "execution_count": 22,
     "metadata": {},
     "output_type": "execute_result"
    }
   ],
   "source": [
    "r2_score(y_true=y_test, y_pred=y_test_predict)"
   ]
  },
  {
   "cell_type": "code",
   "execution_count": null,
   "id": "d19f999e",
   "metadata": {},
   "outputs": [],
   "source": []
  }
 ],
 "metadata": {
  "kernelspec": {
   "display_name": "Python 3 (ipykernel)",
   "language": "python",
   "name": "python3"
  },
  "language_info": {
   "codemirror_mode": {
    "name": "ipython",
    "version": 3
   },
   "file_extension": ".py",
   "mimetype": "text/x-python",
   "name": "python",
   "nbconvert_exporter": "python",
   "pygments_lexer": "ipython3",
   "version": "3.11.7"
  }
 },
 "nbformat": 4,
 "nbformat_minor": 5
}
